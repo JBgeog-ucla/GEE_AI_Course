{
 "cells": [
  {
   "cell_type": "code",
   "execution_count": 1,
   "id": "d1eb3d83-cd7e-4643-89c2-758b8991f371",
   "metadata": {},
   "outputs": [],
   "source": [
    "#import libraries\n",
    "#ee = official Earth Engine Python API provided by Google\n",
    "import ee\n",
    "import folium\n",
    "#Python package built on top of the ee library \n",
    "#improves ease of use- GEE data w/in Jupyter notebooks\n",
    "import geemap\n",
    "from IPython.display import display\n",
    "import zipfile\n",
    "import os\n",
    "import geopandas as gpd\n",
    "\n",
    "# Authenticate and initialize the Earth Engine API\n",
    "ee.Initialize()"
   ]
  },
  {
   "cell_type": "code",
   "execution_count": null,
   "id": "220b9ace-cb3b-4c0f-a106-b0c940d72291",
   "metadata": {},
   "outputs": [],
   "source": []
  },
  {
   "cell_type": "code",
   "execution_count": 2,
   "id": "59d16938-f045-48e4-9015-af616fddaf4d",
   "metadata": {},
   "outputs": [
    {
     "data": {
      "text/html": [
       "\n",
       "            <style>\n",
       "                .geemap-dark {\n",
       "                    --jp-widgets-color: white;\n",
       "                    --jp-widgets-label-color: white;\n",
       "                    --jp-ui-font-color1: white;\n",
       "                    --jp-layout-color2: #454545;\n",
       "                    background-color: #383838;\n",
       "                }\n",
       "\n",
       "                .geemap-dark .jupyter-button {\n",
       "                    --jp-layout-color3: #383838;\n",
       "                }\n",
       "\n",
       "                .geemap-colab {\n",
       "                    background-color: var(--colab-primary-surface-color, white);\n",
       "                }\n",
       "\n",
       "                .geemap-colab .jupyter-button {\n",
       "                    --jp-layout-color3: var(--colab-primary-surface-color, white);\n",
       "                }\n",
       "            </style>\n",
       "            "
      ],
      "text/plain": [
       "<IPython.core.display.HTML object>"
      ]
     },
     "metadata": {},
     "output_type": "display_data"
    },
    {
     "name": "stdout",
     "output_type": "stream",
     "text": [
      "Requirement already satisfied: pyshp in /Users/jenniferbadger/opt/anaconda3/envs/gee/lib/python3.8/site-packages (2.3.1)\n"
     ]
    }
   ],
   "source": [
    "!pip install pyshp #req already satisfied"
   ]
  },
  {
   "cell_type": "code",
   "execution_count": 27,
   "id": "b0db27b3-f359-4020-ac48-dacb6056ebc3",
   "metadata": {},
   "outputs": [
    {
     "data": {
      "text/html": [
       "\n",
       "            <style>\n",
       "                .geemap-dark {\n",
       "                    --jp-widgets-color: white;\n",
       "                    --jp-widgets-label-color: white;\n",
       "                    --jp-ui-font-color1: white;\n",
       "                    --jp-layout-color2: #454545;\n",
       "                    background-color: #383838;\n",
       "                }\n",
       "\n",
       "                .geemap-dark .jupyter-button {\n",
       "                    --jp-layout-color3: #383838;\n",
       "                }\n",
       "\n",
       "                .geemap-colab {\n",
       "                    background-color: var(--colab-primary-surface-color, white);\n",
       "                }\n",
       "\n",
       "                .geemap-colab .jupyter-button {\n",
       "                    --jp-layout-color3: var(--colab-primary-surface-color, white);\n",
       "                }\n",
       "            </style>\n",
       "            "
      ],
      "text/plain": [
       "<IPython.core.display.HTML object>"
      ]
     },
     "metadata": {},
     "output_type": "display_data"
    }
   ],
   "source": [
    "# Define the area of interest: Corsica\n",
    "#this doesn't work rs image cutsoff at the north of the island\n",
    "corsica = ee.Geometry.Polygon([\n",
    "    [[8.5458, 42.4091], [9.5485, 42.4091], [9.5485, 41.2809], [8.5458, 41.2809], [8.5458, 42.4091]]\n",
    "])"
   ]
  },
  {
   "cell_type": "code",
   "execution_count": 28,
   "id": "8abc32cf-52bc-4f8b-ac88-0a25bd31495f",
   "metadata": {},
   "outputs": [
    {
     "data": {
      "text/html": [
       "\n",
       "            <style>\n",
       "                .geemap-dark {\n",
       "                    --jp-widgets-color: white;\n",
       "                    --jp-widgets-label-color: white;\n",
       "                    --jp-ui-font-color1: white;\n",
       "                    --jp-layout-color2: #454545;\n",
       "                    background-color: #383838;\n",
       "                }\n",
       "\n",
       "                .geemap-dark .jupyter-button {\n",
       "                    --jp-layout-color3: #383838;\n",
       "                }\n",
       "\n",
       "                .geemap-colab {\n",
       "                    background-color: var(--colab-primary-surface-color, white);\n",
       "                }\n",
       "\n",
       "                .geemap-colab .jupyter-button {\n",
       "                    --jp-layout-color3: var(--colab-primary-surface-color, white);\n",
       "                }\n",
       "            </style>\n",
       "            "
      ],
      "text/plain": [
       "<IPython.core.display.HTML object>"
      ]
     },
     "metadata": {},
     "output_type": "display_data"
    }
   ],
   "source": [
    "#didn't end up using this\n",
    "\n",
    "#url_ne_admin1 = 'https://www.naturalearthdata.com/http//www.naturalearthdata.com/download/10m/cultural/ne_10m_admin_1_states_provinces.zip'\n",
    "\n",
    "#ne_admin1_out_file = '/Users/jenniferbadger/Documents/GitHub/GEE_AI_Course/ne_admin1.zip'#\n",
    "\n",
    "#geemap.download_file(url_ne_admin1, ne_admin1_out_file)"
   ]
  },
  {
   "cell_type": "code",
   "execution_count": 29,
   "id": "014b6047-cbe2-4acf-ba10-58dbbed041ca",
   "metadata": {},
   "outputs": [
    {
     "data": {
      "text/html": [
       "\n",
       "            <style>\n",
       "                .geemap-dark {\n",
       "                    --jp-widgets-color: white;\n",
       "                    --jp-widgets-label-color: white;\n",
       "                    --jp-ui-font-color1: white;\n",
       "                    --jp-layout-color2: #454545;\n",
       "                    background-color: #383838;\n",
       "                }\n",
       "\n",
       "                .geemap-dark .jupyter-button {\n",
       "                    --jp-layout-color3: #383838;\n",
       "                }\n",
       "\n",
       "                .geemap-colab {\n",
       "                    background-color: var(--colab-primary-surface-color, white);\n",
       "                }\n",
       "\n",
       "                .geemap-colab .jupyter-button {\n",
       "                    --jp-layout-color3: var(--colab-primary-surface-color, white);\n",
       "                }\n",
       "            </style>\n",
       "            "
      ],
      "text/plain": [
       "<IPython.core.display.HTML object>"
      ]
     },
     "metadata": {},
     "output_type": "display_data"
    },
    {
     "data": {
      "text/plain": [
       "'https://drive.google.com/uc?id=1GaCVrLz5fqPOTnkxervV5KxExuMDjkvg'"
      ]
     },
     "execution_count": 29,
     "metadata": {},
     "output_type": "execute_result"
    }
   ],
   "source": [
    "#local paths apparently don't work for GEE....\n",
    "#path_shp_corsica = '/Users/jenniferbadger/Dropbox/AI_course/shp/corsica_dissolved/corsica_dissolved.shp'\n",
    "\n",
    "#use this to copy file id 'https://drive.google.com/file/d/1GaCVrLz5fqPOTnkxervV5KxExuMDjkvg/view?usp=share_link'  \n",
    "\n",
    "# Google Drive file ID of your shapefile\n",
    "file_id = '1GaCVrLz5fqPOTnkxervV5KxExuMDjkvg'\n",
    "\n",
    "# Use geemap to import the shapefile from Google Drive\n",
    "gdrive_shapefile_url = f'https://drive.google.com/uc?id={file_id}'\n",
    "gdrive_shapefile_url\n",
    "\n",
    "#creates a correct path but difficult to use with GEEmap"
   ]
  },
  {
   "cell_type": "code",
   "execution_count": 30,
   "id": "54a5737e-2d73-440f-a298-00fabeadfaef",
   "metadata": {},
   "outputs": [
    {
     "data": {
      "text/html": [
       "\n",
       "            <style>\n",
       "                .geemap-dark {\n",
       "                    --jp-widgets-color: white;\n",
       "                    --jp-widgets-label-color: white;\n",
       "                    --jp-ui-font-color1: white;\n",
       "                    --jp-layout-color2: #454545;\n",
       "                    background-color: #383838;\n",
       "                }\n",
       "\n",
       "                .geemap-dark .jupyter-button {\n",
       "                    --jp-layout-color3: #383838;\n",
       "                }\n",
       "\n",
       "                .geemap-colab {\n",
       "                    background-color: var(--colab-primary-surface-color, white);\n",
       "                }\n",
       "\n",
       "                .geemap-colab .jupyter-button {\n",
       "                    --jp-layout-color3: var(--colab-primary-surface-color, white);\n",
       "                }\n",
       "            </style>\n",
       "            "
      ],
      "text/plain": [
       "<IPython.core.display.HTML object>"
      ]
     },
     "metadata": {},
     "output_type": "display_data"
    },
    {
     "data": {
      "application/vnd.jupyter.widget-view+json": {
       "model_id": "ca2411e13d55407ba7068e8a884accb5",
       "version_major": 2,
       "version_minor": 0
      },
      "text/plain": [
       "Map(center=[42, 9], controls=(WidgetControl(options=['position', 'transparent_bg'], widget=SearchDataGUI(child…"
      ]
     },
     "execution_count": 30,
     "metadata": {},
     "output_type": "execute_result"
    }
   ],
   "source": [
    "# Load Sentinel-2 imagery\n",
    "sentinel2_harmonized = ee.ImageCollection(\"COPERNICUS/S2_SR_HARMONIZED\") \\\n",
    "    .filterBounds(corsica) \\\n",
    "    .filterDate('2023-01-01', '2023-12-31') \\\n",
    "    .filter(ee.Filter.lt('CLOUDY_PIXEL_PERCENTAGE', 10)) \\\n",
    "    .median()  # To get a cloud-free composite\n",
    "\n",
    "# Define visualization parameters\n",
    "#setsup a RGB image\n",
    "#B2 = 10m blue\n",
    "#B3 = 10m green\n",
    "#B4 = 10m red\n",
    "#min, max, and gamma control how the image data is stretched and displayed\n",
    "vis_params_sentinel = {\n",
    "    'bands': ['B4', 'B3', 'B2'],  # RGB\n",
    "    #min defines the min value for the color stretch. \n",
    "    #Pixels with values below this threshold are displayed as the minimum color value (typically black or the darkest color in the color palette).\n",
    "    'min': 0,\n",
    "    #similar to min but the inverse\n",
    "    'max': 3000,\n",
    "    #Gamma correction is a non-linear operation used to encode and decode luminance or RGB values \n",
    "    #A gamma value > 1 = darken the image, gamma value < 1 = lightens it.\n",
    "    'gamma': 1.4\n",
    "}\n",
    "\n",
    "# Create a map\n",
    "map = geemap.Map(center=[42, 9], zoom=10)\n",
    "map.addLayer(sentinel2_harmonized.clip(corsica), vis_params_sentinel, 'Sentinel-2')\n",
    "map"
   ]
  },
  {
   "cell_type": "code",
   "execution_count": 56,
   "id": "49344684-6a77-4dc3-9d03-2d190fd0f352",
   "metadata": {},
   "outputs": [
    {
     "data": {
      "text/html": [
       "\n",
       "            <style>\n",
       "                .geemap-dark {\n",
       "                    --jp-widgets-color: white;\n",
       "                    --jp-widgets-label-color: white;\n",
       "                    --jp-ui-font-color1: white;\n",
       "                    --jp-layout-color2: #454545;\n",
       "                    background-color: #383838;\n",
       "                }\n",
       "\n",
       "                .geemap-dark .jupyter-button {\n",
       "                    --jp-layout-color3: #383838;\n",
       "                }\n",
       "\n",
       "                .geemap-colab {\n",
       "                    background-color: var(--colab-primary-surface-color, white);\n",
       "                }\n",
       "\n",
       "                .geemap-colab .jupyter-button {\n",
       "                    --jp-layout-color3: var(--colab-primary-surface-color, white);\n",
       "                }\n",
       "            </style>\n",
       "            "
      ],
      "text/plain": [
       "<IPython.core.display.HTML object>"
      ]
     },
     "metadata": {},
     "output_type": "display_data"
    },
    {
     "data": {
      "text/plain": [
       "[221, 223, 244]"
      ]
     },
     "execution_count": 56,
     "metadata": {},
     "output_type": "execute_result"
    }
   ],
   "source": [
    "# Load CORINE land cover dataset\n",
    "corine = ee.ImageCollection('COPERNICUS/CORINE/V20/100m') \\\n",
    "    .filterBounds(corsica) \\\n",
    "    .first()  # Get the first image for simplicity\n",
    "\n",
    "# Define agricultural land use codes based on CORINE classification\n",
    "agricultural_codes = [211, 212, 213, 221, 222, 223, 231, 241, 242, 243, 244]\n",
    "wine_olives_agrof = [221, 223, 244]\n",
    "\n",
    "wine_olives_agrof"
   ]
  },
  {
   "cell_type": "code",
   "execution_count": 57,
   "id": "0a999a9c-c4e8-485a-a118-f9d2c4541f93",
   "metadata": {},
   "outputs": [
    {
     "data": {
      "text/html": [
       "\n",
       "            <style>\n",
       "                .geemap-dark {\n",
       "                    --jp-widgets-color: white;\n",
       "                    --jp-widgets-label-color: white;\n",
       "                    --jp-ui-font-color1: white;\n",
       "                    --jp-layout-color2: #454545;\n",
       "                    background-color: #383838;\n",
       "                }\n",
       "\n",
       "                .geemap-dark .jupyter-button {\n",
       "                    --jp-layout-color3: #383838;\n",
       "                }\n",
       "\n",
       "                .geemap-colab {\n",
       "                    background-color: var(--colab-primary-surface-color, white);\n",
       "                }\n",
       "\n",
       "                .geemap-colab .jupyter-button {\n",
       "                    --jp-layout-color3: var(--colab-primary-surface-color, white);\n",
       "                }\n",
       "            </style>\n",
       "            "
      ],
      "text/plain": [
       "<IPython.core.display.HTML object>"
      ]
     },
     "metadata": {},
     "output_type": "display_data"
    },
    {
     "data": {
      "application/vnd.jupyter.widget-view+json": {
       "model_id": "4a11e2c0f0dc4863bdc3e41b9e03b961",
       "version_major": 2,
       "version_minor": 0
      },
      "text/plain": [
       "Map(center=[42, 9], controls=(WidgetControl(options=['position', 'transparent_bg'], widget=SearchDataGUI(child…"
      ]
     },
     "execution_count": 57,
     "metadata": {},
     "output_type": "execute_result"
    }
   ],
   "source": [
    "# Filter the CORINE image to include only agricultural land uses\n",
    "agricultural_land = corine.updateMask(corine.remap(wine_olives_agrof, [1] * len(wine_olives_agrof), 0))\n",
    "\n",
    "# Define visualization parameters for CORINE agricultural land use\n",
    "vis_params_corine = {\n",
    "    'min': 0,\n",
    "    'max': 1,\n",
    "    'palette': ['#1b9e77','#d95f02','#7570b3']\n",
    "}\n",
    "\n",
    "# Create a map\n",
    "map = geemap.Map(center=[42, 9], zoom=10)\n",
    "\n",
    "# Add layers to the map\n",
    "map.add_basemap(\"Esri.WorldShadedRelief\",labels=False) #gives a message that this has already been added\n",
    "#map.addLayer(sentinel2_harmonized.clip(corsica), vis_params_sentinel, 'Sentinel-2 Harmonized')\n",
    "map.addLayer(agricultural_land.clip(corsica), vis_params_corine, 'CORINE Agricultural Land Use')\n",
    "\n",
    "# Display the map\n",
    "map"
   ]
  },
  {
   "cell_type": "code",
   "execution_count": 55,
   "id": "1589e0d9-271a-4c02-bb94-9b364afe0f8b",
   "metadata": {},
   "outputs": [
    {
     "data": {
      "text/html": [
       "\n",
       "            <style>\n",
       "                .geemap-dark {\n",
       "                    --jp-widgets-color: white;\n",
       "                    --jp-widgets-label-color: white;\n",
       "                    --jp-ui-font-color1: white;\n",
       "                    --jp-layout-color2: #454545;\n",
       "                    background-color: #383838;\n",
       "                }\n",
       "\n",
       "                .geemap-dark .jupyter-button {\n",
       "                    --jp-layout-color3: #383838;\n",
       "                }\n",
       "\n",
       "                .geemap-colab {\n",
       "                    background-color: var(--colab-primary-surface-color, white);\n",
       "                }\n",
       "\n",
       "                .geemap-colab .jupyter-button {\n",
       "                    --jp-layout-color3: var(--colab-primary-surface-color, white);\n",
       "                }\n",
       "            </style>\n",
       "            "
      ],
      "text/plain": [
       "<IPython.core.display.HTML object>"
      ]
     },
     "metadata": {},
     "output_type": "display_data"
    },
    {
     "ename": "IndexError",
     "evalue": "list index out of range",
     "output_type": "error",
     "traceback": [
      "\u001b[0;31m---------------------------------------------------------------------------\u001b[0m",
      "\u001b[0;31mIndexError\u001b[0m                                Traceback (most recent call last)",
      "Cell \u001b[0;32mIn[55], line 2\u001b[0m\n\u001b[1;32m      1\u001b[0m agricultural_mask \u001b[38;5;241m=\u001b[39m corine\u001b[38;5;241m.\u001b[39meq(wine_olives_agrof[\u001b[38;5;241m0\u001b[39m])\u001b[38;5;241m.\u001b[39mmultiply(\u001b[38;5;241m1\u001b[39m) \\\n\u001b[0;32m----> 2\u001b[0m     \u001b[38;5;241m.\u001b[39madd(corine\u001b[38;5;241m.\u001b[39meq(\u001b[43mwine_olives_agrof\u001b[49m\u001b[43m[\u001b[49m\u001b[38;5;241;43m1\u001b[39;49m\u001b[43m]\u001b[49m)\u001b[38;5;241m.\u001b[39mmultiply(\u001b[38;5;241m2\u001b[39m)) \\\n\u001b[1;32m      3\u001b[0m     \u001b[38;5;241m.\u001b[39madd(corine\u001b[38;5;241m.\u001b[39meq(wine_olives_agrof[\u001b[38;5;241m2\u001b[39m])\u001b[38;5;241m.\u001b[39mmultiply(\u001b[38;5;241m3\u001b[39m))\n\u001b[1;32m      5\u001b[0m \u001b[38;5;66;03m# Apply the mask to the CORINE image\u001b[39;00m\n\u001b[1;32m      6\u001b[0m agricultural_land \u001b[38;5;241m=\u001b[39m corine\u001b[38;5;241m.\u001b[39mupdateMask(agricultural_mask)\n",
      "\u001b[0;31mIndexError\u001b[0m: list index out of range"
     ]
    }
   ],
   "source": [
    "agricultural_mask = corine.eq(wine_olives_agrof[0]).multiply(1) \\\n",
    "    .add(corine.eq(wine_olives_agrof[1]).multiply(2)) \\\n",
    "    .add(corine.eq(wine_olives_agrof[2]).multiply(3))\n",
    "\n",
    "# Apply the mask to the CORINE image\n",
    "agricultural_land = corine.updateMask(agricultural_mask)\n",
    "\n",
    "# Define visualization parameters for CORINE agricultural land use with different colors for each category\n",
    "vis_params_corine = {\n",
    "    'min': 1,\n",
    "    'max': 3,\n",
    "    'palette': ['#1b9e77','#d95f02','#7570b3']  #Cateogorical palette from Colorbrewer\n",
    "}\n",
    "\n",
    "# Create a map\n",
    "map = geemap.Map(center=[42.5, 9], zoom=10)\n",
    "\n",
    "# Add layers to the map\n",
    "map.add_basemap(\"Esri.WorldShadedRelief\",labels=False) #gives a message that this has already been added\n",
    "#map.addLayer(sentinel2_harmonized.clip(corsica), vis_params_sentinel, 'Sentinel-2 Harmonized')\n",
    "map.addLayer(agricultural_land.clip(corsica), vis_params_corine, 'CORINE Agricultural Land Use')\n",
    "\n",
    "# Display the map\n",
    "map"
   ]
  },
  {
   "cell_type": "code",
   "execution_count": 21,
   "id": "d49b9ba4-f8eb-4444-a9d2-5c480d9640c6",
   "metadata": {},
   "outputs": [
    {
     "data": {
      "text/html": [
       "\n",
       "            <style>\n",
       "                .geemap-dark {\n",
       "                    --jp-widgets-color: white;\n",
       "                    --jp-widgets-label-color: white;\n",
       "                    --jp-ui-font-color1: white;\n",
       "                    --jp-layout-color2: #454545;\n",
       "                    background-color: #383838;\n",
       "                }\n",
       "\n",
       "                .geemap-dark .jupyter-button {\n",
       "                    --jp-layout-color3: #383838;\n",
       "                }\n",
       "\n",
       "                .geemap-colab {\n",
       "                    background-color: var(--colab-primary-surface-color, white);\n",
       "                }\n",
       "\n",
       "                .geemap-colab .jupyter-button {\n",
       "                    --jp-layout-color3: var(--colab-primary-surface-color, white);\n",
       "                }\n",
       "            </style>\n",
       "            "
      ],
      "text/plain": [
       "<IPython.core.display.HTML object>"
      ]
     },
     "metadata": {},
     "output_type": "display_data"
    },
    {
     "data": {
      "text/html": [
       "<div><style>:root {\n",
       "  --font-color-primary: var(--jp-content-font-color0, rgba(0, 0, 0, 1));\n",
       "  --font-color-secondary: var(--jp-content-font-color2, rgba(0, 0, 0, 0.6));\n",
       "  --font-color-accent: rgba(123, 31, 162, 1);\n",
       "  --border-color: var(--jp-border-color2, #e0e0e0);\n",
       "  --background-color: var(--jp-layout-color0, white);\n",
       "  --background-color-row-even: var(--jp-layout-color1, white);\n",
       "  --background-color-row-odd: var(--jp-layout-color2, #eeeeee);\n",
       "}\n",
       "\n",
       "html[theme=\"dark\"],\n",
       "body[data-theme=\"dark\"],\n",
       "body.vscode-dark {\n",
       "  --font-color-primary: rgba(255, 255, 255, 1);\n",
       "  --font-color-secondary: rgba(255, 255, 255, 0.6);\n",
       "  --font-color-accent: rgb(173, 132, 190);\n",
       "  --border-color: #2e2e2e;\n",
       "  --background-color: #111111;\n",
       "  --background-color-row-even: #111111;\n",
       "  --background-color-row-odd: #313131;\n",
       "}\n",
       "\n",
       ".ee {\n",
       "  padding: 1em;\n",
       "  line-height: 1.5em;\n",
       "  min-width: 300px;\n",
       "  max-width: 1200px;\n",
       "  overflow-y: scroll;\n",
       "  max-height: 600px;\n",
       "  border: 1px solid var(--border-color);\n",
       "  font-family: monospace;\n",
       "}\n",
       "\n",
       ".ee li {\n",
       "  list-style-type: none;\n",
       "}\n",
       "\n",
       ".ee ul {\n",
       "  padding-left: 1.5em !important;\n",
       "  margin: 0;\n",
       "}\n",
       "\n",
       ".ee > ul {\n",
       "  padding-left: 0 !important;\n",
       "}\n",
       "\n",
       ".ee-open,\n",
       ".ee-shut {\n",
       "  color: var(--font-color-secondary);\n",
       "  cursor: pointer;\n",
       "  margin: 0;\n",
       "}\n",
       "\n",
       ".ee-open:hover,\n",
       ".ee-shut:hover {\n",
       "  color: var(--font-color-primary);\n",
       "}\n",
       "\n",
       ".ee-k {\n",
       "  color: var(--font-color-accent);\n",
       "  margin-right: 6px;\n",
       "}\n",
       "\n",
       ".ee-v {\n",
       "  color: var(--font-color-primary);\n",
       "}\n",
       "\n",
       ".ee-toggle {\n",
       "  display: none;\n",
       "}\n",
       "\n",
       ".ee-shut + ul {\n",
       "  display: none;\n",
       "}\n",
       "\n",
       ".ee-open + ul {\n",
       "  display: block;\n",
       "}\n",
       "\n",
       ".ee-shut::before {\n",
       "  display: inline-block;\n",
       "  content: \"▼\";\n",
       "  margin-right: 6px;\n",
       "  transform: rotate(-90deg);\n",
       "  transition: transform 0.2s;\n",
       "}\n",
       "\n",
       ".ee-open::before {\n",
       "  transform: rotate(0deg);\n",
       "  display: inline-block;\n",
       "  content: \"▼\";\n",
       "  margin-right: 6px;\n",
       "  transition: transform 0.2s;\n",
       "}\n",
       "</style><div class='ee'><ul><li><label class='ee-shut'>Image COPERNICUS/CORINE/V20/100m/1990 (1 band)<input type='checkbox' class='ee-toggle'></label><ul><li><span class='ee-k'>type:</span><span class='ee-v'>Image</span></li><li><span class='ee-k'>id:</span><span class='ee-v'>COPERNICUS/CORINE/V20/100m/1990</span></li><li><span class='ee-k'>version:</span><span class='ee-v'>1578598780904750.0</span></li><li><label class='ee-shut'>bands: List (1 element)<input type='checkbox' class='ee-toggle'></label><ul><li><label class='ee-shut'>0: \"landcover\", signed int16, EPSG:3035, 65000x46000 px<input type='checkbox' class='ee-toggle'></label><ul><li><span class='ee-k'>id:</span><span class='ee-v'>landcover</span></li><li><span class='ee-k'>crs:</span><span class='ee-v'>EPSG:3035</span></li><li><label class='ee-shut'>crs_transform: [100, 0, 900000, 0, -100, 5500000]<input type='checkbox' class='ee-toggle'></label><ul><li><span class='ee-k'>0:</span><span class='ee-v'>100</span></li><li><span class='ee-k'>1:</span><span class='ee-v'>0</span></li><li><span class='ee-k'>2:</span><span class='ee-v'>900000</span></li><li><span class='ee-k'>3:</span><span class='ee-v'>0</span></li><li><span class='ee-k'>4:</span><span class='ee-v'>-100</span></li><li><span class='ee-k'>5:</span><span class='ee-v'>5500000</span></li></ul></li><li><label class='ee-shut'>data_type: signed int16<input type='checkbox' class='ee-toggle'></label><ul><li><span class='ee-k'>type:</span><span class='ee-v'>PixelType</span></li><li><span class='ee-k'>max:</span><span class='ee-v'>32767</span></li><li><span class='ee-k'>min:</span><span class='ee-v'>-32768</span></li><li><span class='ee-k'>precision:</span><span class='ee-v'>int</span></li></ul></li><li><label class='ee-shut'>dimensions: [65000, 46000]<input type='checkbox' class='ee-toggle'></label><ul><li><span class='ee-k'>0:</span><span class='ee-v'>65000</span></li><li><span class='ee-k'>1:</span><span class='ee-v'>46000</span></li></ul></li></ul></li></ul></li><li><label class='ee-shut'>properties: Object (8 properties)<input type='checkbox' class='ee-toggle'></label><ul><li><label class='ee-shut'>landcover_class_names: List (44 elements)<input type='checkbox' class='ee-toggle'></label><ul><li><span class='ee-k'>0:</span><span class='ee-v'>Artificial surfaces; urban fabric; continuous urban fabric</span></li><li><span class='ee-k'>1:</span><span class='ee-v'>Artificial surfaces; urban fabric; discontinuous urban fabric</span></li><li><span class='ee-k'>2:</span><span class='ee-v'>Artificial surfaces; industrial, commercial, and transport units; industrial or commercial units</span></li><li><span class='ee-k'>3:</span><span class='ee-v'>Artificial surfaces; industrial, commercial, and transport units; road and rail networks and associated land</span></li><li><span class='ee-k'>4:</span><span class='ee-v'>Artificial surfaces; industrial, commercial, and transport units; port areas</span></li><li><span class='ee-k'>5:</span><span class='ee-v'>Artificial surfaces; industrial, commercial, and transport units; airports</span></li><li><span class='ee-k'>6:</span><span class='ee-v'>Artificial surfaces; mine, dump, and construction sites; mineral extraction sites</span></li><li><span class='ee-k'>7:</span><span class='ee-v'>Artificial surfaces; mine, dump, and construction sites; dump sites</span></li><li><span class='ee-k'>8:</span><span class='ee-v'>Artificial surfaces; mine, dump, and construction sites; construction sites</span></li><li><span class='ee-k'>9:</span><span class='ee-v'>Artificial surfaces; artificial, non-agricultural vegetated areas; green urban areas</span></li><li><span class='ee-k'>10:</span><span class='ee-v'>Artificial surfaces; artificial, non-agricultural vegetated areas; sport and leisure facilities</span></li><li><span class='ee-k'>11:</span><span class='ee-v'>Agricultural areas; arable land; non-irrigated arable land</span></li><li><span class='ee-k'>12:</span><span class='ee-v'>Agricultural areas; arable land; permanently irrigated land</span></li><li><span class='ee-k'>13:</span><span class='ee-v'>Agricultural areas; arable land; rice fields</span></li><li><span class='ee-k'>14:</span><span class='ee-v'>Agricultural areas; permanent crops; vineyards</span></li><li><span class='ee-k'>15:</span><span class='ee-v'>Agricultural areas; permanent crops; fruit trees and berry plantations</span></li><li><span class='ee-k'>16:</span><span class='ee-v'>Agricultural areas; permanent crops; olive groves</span></li><li><span class='ee-k'>17:</span><span class='ee-v'>Agricultural areas; pastures; pastures</span></li><li><span class='ee-k'>18:</span><span class='ee-v'>Agricultural areas; heterogeneous agricultural areas; annual crops associated with permanent crops</span></li><li><span class='ee-k'>19:</span><span class='ee-v'>Agricultural areas; heterogeneous agricultural areas; complex cultivation patterns</span></li><li><span class='ee-k'>20:</span><span class='ee-v'>Agricultural areas; heterogeneous agricultural areas; land principally occupied by agriculture, with significant areas of natural vegetation</span></li><li><span class='ee-k'>21:</span><span class='ee-v'>Agricultural areas; heterogeneous agricultural areas; agro-forestry areas</span></li><li><span class='ee-k'>22:</span><span class='ee-v'>Forest and semi natural areas; forests; broad-leaved forest</span></li><li><span class='ee-k'>23:</span><span class='ee-v'>Forest and semi natural areas; forests; coniferous forest</span></li><li><span class='ee-k'>24:</span><span class='ee-v'>Forest and semi natural areas; forests; mixed forest</span></li><li><span class='ee-k'>25:</span><span class='ee-v'>Forest and semi natural areas; scrub and/or herbaceous vegetation associations; natural grasslands</span></li><li><span class='ee-k'>26:</span><span class='ee-v'>Forest and semi natural areas; scrub and/or herbaceous vegetation associations; moors and heathland</span></li><li><span class='ee-k'>27:</span><span class='ee-v'>Forest and semi natural areas; scrub and/or herbaceous vegetation associations; sclerophyllous vegetation</span></li><li><span class='ee-k'>28:</span><span class='ee-v'>Forest and semi natural areas; scrub and/or herbaceous vegetation associations; transitional woodland-shrub</span></li><li><span class='ee-k'>29:</span><span class='ee-v'>Forest and semi natural areas; open spaces with little or no vegetation; beaches, dunes, sands</span></li><li><span class='ee-k'>30:</span><span class='ee-v'>Forest and semi natural areas; open spaces with little or no vegetation; bare rocks</span></li><li><span class='ee-k'>31:</span><span class='ee-v'>Forest and semi natural areas; open spaces with little or no vegetation; sparsely vegetated areas</span></li><li><span class='ee-k'>32:</span><span class='ee-v'>Forest and semi natural areas; open spaces with little or no vegetation; burnt areas</span></li><li><span class='ee-k'>33:</span><span class='ee-v'>Forest and semi natural areas; open spaces with little or no vegetation; glaciers and perpetual snow</span></li><li><span class='ee-k'>34:</span><span class='ee-v'>Wetlands; inland wetlands; inland marshes</span></li><li><span class='ee-k'>35:</span><span class='ee-v'>Wetlands; inland wetlands; peat bogs</span></li><li><span class='ee-k'>36:</span><span class='ee-v'>Wetlands; maritime wetlands; salt marshes</span></li><li><span class='ee-k'>37:</span><span class='ee-v'>Wetlands; maritime wetlands; salines</span></li><li><span class='ee-k'>38:</span><span class='ee-v'>Wetlands; maritime wetlands; intertidal flats</span></li><li><span class='ee-k'>39:</span><span class='ee-v'>Water bodies; inland waters; water courses</span></li><li><span class='ee-k'>40:</span><span class='ee-v'>Water bodies; inland waters; water bodies</span></li><li><span class='ee-k'>41:</span><span class='ee-v'>Water bodies; marine waters; coastal lagoons</span></li><li><span class='ee-k'>42:</span><span class='ee-v'>Water bodies; marine waters; estuaries</span></li><li><span class='ee-k'>43:</span><span class='ee-v'>Water bodies; marine waters; sea and ocean</span></li></ul></li><li><label class='ee-shut'>landcover_class_palette: List (44 elements)<input type='checkbox' class='ee-toggle'></label><ul><li><span class='ee-k'>0:</span><span class='ee-v'>E6004D</span></li><li><span class='ee-k'>1:</span><span class='ee-v'>FF0000</span></li><li><span class='ee-k'>2:</span><span class='ee-v'>CC4DF2</span></li><li><span class='ee-k'>3:</span><span class='ee-v'>CC0000</span></li><li><span class='ee-k'>4:</span><span class='ee-v'>E6CCCC</span></li><li><span class='ee-k'>5:</span><span class='ee-v'>E6CCE6</span></li><li><span class='ee-k'>6:</span><span class='ee-v'>A600CC</span></li><li><span class='ee-k'>7:</span><span class='ee-v'>A64DCC</span></li><li><span class='ee-k'>8:</span><span class='ee-v'>FF4DFF</span></li><li><span class='ee-k'>9:</span><span class='ee-v'>FFA6FF</span></li><li><span class='ee-k'>10:</span><span class='ee-v'>FFE6FF</span></li><li><span class='ee-k'>11:</span><span class='ee-v'>FFFFA8</span></li><li><span class='ee-k'>12:</span><span class='ee-v'>FFFF00</span></li><li><span class='ee-k'>13:</span><span class='ee-v'>E6E600</span></li><li><span class='ee-k'>14:</span><span class='ee-v'>E68000</span></li><li><span class='ee-k'>15:</span><span class='ee-v'>F2A64D</span></li><li><span class='ee-k'>16:</span><span class='ee-v'>E6A600</span></li><li><span class='ee-k'>17:</span><span class='ee-v'>E6E64D</span></li><li><span class='ee-k'>18:</span><span class='ee-v'>FFE6A6</span></li><li><span class='ee-k'>19:</span><span class='ee-v'>FFE64D</span></li><li><span class='ee-k'>20:</span><span class='ee-v'>E6CC4D</span></li><li><span class='ee-k'>21:</span><span class='ee-v'>F2CCA6</span></li><li><span class='ee-k'>22:</span><span class='ee-v'>80FF00</span></li><li><span class='ee-k'>23:</span><span class='ee-v'>00A600</span></li><li><span class='ee-k'>24:</span><span class='ee-v'>4DFF00</span></li><li><span class='ee-k'>25:</span><span class='ee-v'>CCF24D</span></li><li><span class='ee-k'>26:</span><span class='ee-v'>A6FF80</span></li><li><span class='ee-k'>27:</span><span class='ee-v'>A6E64D</span></li><li><span class='ee-k'>28:</span><span class='ee-v'>A6F200</span></li><li><span class='ee-k'>29:</span><span class='ee-v'>E6E6E6</span></li><li><span class='ee-k'>30:</span><span class='ee-v'>CCCCCC</span></li><li><span class='ee-k'>31:</span><span class='ee-v'>CCFFCC</span></li><li><span class='ee-k'>32:</span><span class='ee-v'>000000</span></li><li><span class='ee-k'>33:</span><span class='ee-v'>A6E6CC</span></li><li><span class='ee-k'>34:</span><span class='ee-v'>A6A6FF</span></li><li><span class='ee-k'>35:</span><span class='ee-v'>4D4DFF</span></li><li><span class='ee-k'>36:</span><span class='ee-v'>CCCCFF</span></li><li><span class='ee-k'>37:</span><span class='ee-v'>E6E6FF</span></li><li><span class='ee-k'>38:</span><span class='ee-v'>A6A6E6</span></li><li><span class='ee-k'>39:</span><span class='ee-v'>00CCF2</span></li><li><span class='ee-k'>40:</span><span class='ee-v'>80F2E6</span></li><li><span class='ee-k'>41:</span><span class='ee-v'>00FFA6</span></li><li><span class='ee-k'>42:</span><span class='ee-v'>A6FFE6</span></li><li><span class='ee-k'>43:</span><span class='ee-v'>E6F2FF</span></li></ul></li><li><label class='ee-shut'>landcover_class_values: List (44 elements)<input type='checkbox' class='ee-toggle'></label><ul><li><span class='ee-k'>0:</span><span class='ee-v'>111</span></li><li><span class='ee-k'>1:</span><span class='ee-v'>112</span></li><li><span class='ee-k'>2:</span><span class='ee-v'>121</span></li><li><span class='ee-k'>3:</span><span class='ee-v'>122</span></li><li><span class='ee-k'>4:</span><span class='ee-v'>123</span></li><li><span class='ee-k'>5:</span><span class='ee-v'>124</span></li><li><span class='ee-k'>6:</span><span class='ee-v'>131</span></li><li><span class='ee-k'>7:</span><span class='ee-v'>132</span></li><li><span class='ee-k'>8:</span><span class='ee-v'>133</span></li><li><span class='ee-k'>9:</span><span class='ee-v'>141</span></li><li><span class='ee-k'>10:</span><span class='ee-v'>142</span></li><li><span class='ee-k'>11:</span><span class='ee-v'>211</span></li><li><span class='ee-k'>12:</span><span class='ee-v'>212</span></li><li><span class='ee-k'>13:</span><span class='ee-v'>213</span></li><li><span class='ee-k'>14:</span><span class='ee-v'>221</span></li><li><span class='ee-k'>15:</span><span class='ee-v'>222</span></li><li><span class='ee-k'>16:</span><span class='ee-v'>223</span></li><li><span class='ee-k'>17:</span><span class='ee-v'>231</span></li><li><span class='ee-k'>18:</span><span class='ee-v'>241</span></li><li><span class='ee-k'>19:</span><span class='ee-v'>242</span></li><li><span class='ee-k'>20:</span><span class='ee-v'>243</span></li><li><span class='ee-k'>21:</span><span class='ee-v'>244</span></li><li><span class='ee-k'>22:</span><span class='ee-v'>311</span></li><li><span class='ee-k'>23:</span><span class='ee-v'>312</span></li><li><span class='ee-k'>24:</span><span class='ee-v'>313</span></li><li><span class='ee-k'>25:</span><span class='ee-v'>321</span></li><li><span class='ee-k'>26:</span><span class='ee-v'>322</span></li><li><span class='ee-k'>27:</span><span class='ee-v'>323</span></li><li><span class='ee-k'>28:</span><span class='ee-v'>324</span></li><li><span class='ee-k'>29:</span><span class='ee-v'>331</span></li><li><span class='ee-k'>30:</span><span class='ee-v'>332</span></li><li><span class='ee-k'>31:</span><span class='ee-v'>333</span></li><li><span class='ee-k'>32:</span><span class='ee-v'>334</span></li><li><span class='ee-k'>33:</span><span class='ee-v'>335</span></li><li><span class='ee-k'>34:</span><span class='ee-v'>411</span></li><li><span class='ee-k'>35:</span><span class='ee-v'>412</span></li><li><span class='ee-k'>36:</span><span class='ee-v'>421</span></li><li><span class='ee-k'>37:</span><span class='ee-v'>422</span></li><li><span class='ee-k'>38:</span><span class='ee-v'>423</span></li><li><span class='ee-k'>39:</span><span class='ee-v'>511</span></li><li><span class='ee-k'>40:</span><span class='ee-v'>512</span></li><li><span class='ee-k'>41:</span><span class='ee-v'>521</span></li><li><span class='ee-k'>42:</span><span class='ee-v'>522</span></li><li><span class='ee-k'>43:</span><span class='ee-v'>523</span></li></ul></li><li><span class='ee-k'>system:asset_size:</span><span class='ee-v'>94940471</span></li><li><label class='ee-shut'>system:footprint: LinearRing (17 vertices)<input type='checkbox' class='ee-toggle'></label><ul><li><span class='ee-k'>type:</span><span class='ee-v'>LinearRing</span></li><li><label class='ee-shut'>coordinates: List (17 elements)<input type='checkbox' class='ee-toggle'></label><ul><li><label class='ee-shut'>0: [-9.291577489959689, 28.948048779529504]<input type='checkbox' class='ee-toggle'></label><ul><li><span class='ee-k'>0:</span><span class='ee-v'>-9.291577489959689</span></li><li><span class='ee-k'>1:</span><span class='ee-v'>28.948048779529504</span></li></ul></li><li><label class='ee-shut'>1: [-1.1348922141878568, 30.384108013567815]<input type='checkbox' class='ee-toggle'></label><ul><li><span class='ee-k'>0:</span><span class='ee-v'>-1.1348922141878568</span></li><li><span class='ee-k'>1:</span><span class='ee-v'>30.384108013567815</span></li></ul></li><li><label class='ee-shut'>2: [15.560478296444398, 30.91440362048397]<input type='checkbox' class='ee-toggle'></label><ul><li><span class='ee-k'>0:</span><span class='ee-v'>15.560478296444398</span></li><li><span class='ee-k'>1:</span><span class='ee-v'>30.91440362048397</span></li></ul></li><li><label class='ee-shut'>3: [31.921350318315167, 28.31102049320865]<input type='checkbox' class='ee-toggle'></label><ul><li><span class='ee-k'>0:</span><span class='ee-v'>31.921350318315167</span></li><li><span class='ee-k'>1:</span><span class='ee-v'>28.31102049320865</span></li></ul></li><li><label class='ee-shut'>4: [40.6630138383624, 25.544103078211442]<input type='checkbox' class='ee-toggle'></label><ul><li><span class='ee-k'>0:</span><span class='ee-v'>40.6630138383624</span></li><li><span class='ee-k'>1:</span><span class='ee-v'>25.544103078211442</span></li></ul></li><li><label class='ee-shut'>5: [49.12656087431311, 42.164916294594796]<input type='checkbox' class='ee-toggle'></label><ul><li><span class='ee-k'>0:</span><span class='ee-v'>49.12656087431311</span></li><li><span class='ee-k'>1:</span><span class='ee-v'>42.164916294594796</span></li></ul></li><li><label class='ee-shut'>6: [57.191187032904466, 50.53224470253008]<input type='checkbox' class='ee-toggle'></label><ul><li><span class='ee-k'>0:</span><span class='ee-v'>57.191187032904466</span></li><li><span class='ee-k'>1:</span><span class='ee-v'>50.53224470253008</span></li></ul></li><li><label class='ee-shut'>7: [72.90742153049493, 58.95265963820297]<input type='checkbox' class='ee-toggle'></label><ul><li><span class='ee-k'>0:</span><span class='ee-v'>72.90742153049493</span></li><li><span class='ee-k'>1:</span><span class='ee-v'>58.95265963820297</span></li></ul></li><li><label class='ee-shut'>8: [60.87009305611089, 64.99446111020227]<input type='checkbox' class='ee-toggle'></label><ul><li><span class='ee-k'>0:</span><span class='ee-v'>60.87009305611089</span></li><li><span class='ee-k'>1:</span><span class='ee-v'>64.99446111020227</span></li></ul></li><li><label class='ee-shut'>9: [25.64787182886855, 72.09663891778112]<input type='checkbox' class='ee-toggle'></label><ul><li><span class='ee-k'>0:</span><span class='ee-v'>25.64787182886855</span></li><li><span class='ee-k'>1:</span><span class='ee-v'>72.09663891778112</span></li></ul></li><li><label class='ee-shut'>10: [-19.80293148147738, 70.46758464403167]<input type='checkbox' class='ee-toggle'></label><ul><li><span class='ee-k'>0:</span><span class='ee-v'>-19.80293148147738</span></li><li><span class='ee-k'>1:</span><span class='ee-v'>70.46758464403167</span></li></ul></li><li><label class='ee-shut'>11: [-56.50634208232597, 56.484535695188306]<input type='checkbox' class='ee-toggle'></label><ul><li><span class='ee-k'>0:</span><span class='ee-v'>-56.50634208232597</span></li><li><span class='ee-k'>1:</span><span class='ee-v'>56.484535695188306</span></li></ul></li><li><label class='ee-shut'>12: [-41.040859788996734, 48.58346499968482]<input type='checkbox' class='ee-toggle'></label><ul><li><span class='ee-k'>0:</span><span class='ee-v'>-41.040859788996734</span></li><li><span class='ee-k'>1:</span><span class='ee-v'>48.58346499968482</span></li></ul></li><li><label class='ee-shut'>13: [-32.75909186932784, 40.537952981711484]<input type='checkbox' class='ee-toggle'></label><ul><li><span class='ee-k'>0:</span><span class='ee-v'>-32.75909186932784</span></li><li><span class='ee-k'>1:</span><span class='ee-v'>40.537952981711484</span></li></ul></li><li><label class='ee-shut'>14: [-27.059315550168147, 31.653935386299985]<input type='checkbox' class='ee-toggle'></label><ul><li><span class='ee-k'>0:</span><span class='ee-v'>-27.059315550168147</span></li><li><span class='ee-k'>1:</span><span class='ee-v'>31.653935386299985</span></li></ul></li><li><label class='ee-shut'>15: [-23.826273026581656, 24.283554582406]<input type='checkbox' class='ee-toggle'></label><ul><li><span class='ee-k'>0:</span><span class='ee-v'>-23.826273026581656</span></li><li><span class='ee-k'>1:</span><span class='ee-v'>24.283554582406</span></li></ul></li><li><label class='ee-shut'>16: [-9.291577489959689, 28.948048779529504]<input type='checkbox' class='ee-toggle'></label><ul><li><span class='ee-k'>0:</span><span class='ee-v'>-9.291577489959689</span></li><li><span class='ee-k'>1:</span><span class='ee-v'>28.948048779529504</span></li></ul></li></ul></li></ul></li><li><span class='ee-k'>system:index:</span><span class='ee-v'>1990</span></li><li><span class='ee-k'>system:time_end:</span><span class='ee-v'>915105600000</span></li><li><span class='ee-k'>system:time_start:</span><span class='ee-v'>504921600000</span></li></ul></li></ul></li></ul></div><script>function toggleHeader() {\n",
       "    const parent = this.parentElement;\n",
       "    parent.className = parent.className === \"ee-open\" ? \"ee-shut\" : \"ee-open\";\n",
       "}\n",
       "\n",
       "for (let c of document.getElementsByClassName(\"ee-toggle\")) {\n",
       "    c.onclick = toggleHeader;\n",
       "}</script></div>"
      ],
      "text/plain": [
       "<ee.image.Image at 0x7fa2c01b70a0>"
      ]
     },
     "execution_count": 21,
     "metadata": {},
     "output_type": "execute_result"
    }
   ],
   "source": [
    "agricultural_land"
   ]
  },
  {
   "cell_type": "code",
   "execution_count": 54,
   "id": "8207275f-df23-421b-b403-8805937ec54d",
   "metadata": {},
   "outputs": [
    {
     "data": {
      "text/html": [
       "\n",
       "            <style>\n",
       "                .geemap-dark {\n",
       "                    --jp-widgets-color: white;\n",
       "                    --jp-widgets-label-color: white;\n",
       "                    --jp-ui-font-color1: white;\n",
       "                    --jp-layout-color2: #454545;\n",
       "                    background-color: #383838;\n",
       "                }\n",
       "\n",
       "                .geemap-dark .jupyter-button {\n",
       "                    --jp-layout-color3: #383838;\n",
       "                }\n",
       "\n",
       "                .geemap-colab {\n",
       "                    background-color: var(--colab-primary-surface-color, white);\n",
       "                }\n",
       "\n",
       "                .geemap-colab .jupyter-button {\n",
       "                    --jp-layout-color3: var(--colab-primary-surface-color, white);\n",
       "                }\n",
       "            </style>\n",
       "            "
      ],
      "text/plain": [
       "<IPython.core.display.HTML object>"
      ]
     },
     "metadata": {},
     "output_type": "display_data"
    },
    {
     "data": {
      "application/vnd.jupyter.widget-view+json": {
       "model_id": "efc3dc13476b440fa3b7dfb48fab19f1",
       "version_major": 2,
       "version_minor": 0
      },
      "text/plain": [
       "Map(center=[42.5, 9], controls=(WidgetControl(options=['position', 'transparent_bg'], widget=SearchDataGUI(chi…"
      ]
     },
     "execution_count": 54,
     "metadata": {},
     "output_type": "execute_result"
    }
   ],
   "source": [
    "#the problem with these maps is that there is only data for wine\n",
    "# Load CORINE land cover dataset\n",
    "corine = ee.ImageCollection('COPERNICUS/CORINE/V20/100m') \\\n",
    "    .filterBounds(corsica) \\\n",
    "    .first()  # Get the first image for simplicity\n",
    "\n",
    "# Define agricultural land use codes based on CORINE classification\n",
    "wine_olives_agrof = [244]\n",
    "\n",
    "# Create a mask for the agricultural codes in wine_olives_agrof\n",
    "agricultural_mask = corine.remap(wine_olives_agrof, [1])\n",
    "\n",
    "# Apply the mask to the CORINE image\n",
    "agricultural_land = agricultural_mask.updateMask(agricultural_mask)\n",
    "\n",
    "# Define visualization parameters for CORINE agricultural land use\n",
    "vis_params_corine = {\n",
    "    'min': 1,\n",
    "    'max': 3,\n",
    "    'palette': ['red']  # Different colors for different codes\n",
    "}\n",
    "\n",
    "# Create a map\n",
    "map = geemap.Map(center=[42.5, 9], zoom=10)\n",
    "\n",
    "# Add the masked CORINE land cover layer to the map\n",
    "map.addLayer(agricultural_land.clip(corsica), vis_params_corine, 'CORINE Agricultural Land Use')\n",
    "\n",
    "# Display the map\n",
    "map"
   ]
  },
  {
   "cell_type": "code",
   "execution_count": null,
   "id": "ef08876f-8e37-4190-9725-c6b30ef1c408",
   "metadata": {},
   "outputs": [],
   "source": [
    "#Try again but go back to the drawing board- first just visualizing the entire \n",
    "#CORINE dataset\n",
    "#and then filtering for olives, wine and agroF"
   ]
  }
 ],
 "metadata": {
  "kernelspec": {
   "display_name": "Python 3 (ipykernel)",
   "language": "python",
   "name": "python3"
  },
  "language_info": {
   "codemirror_mode": {
    "name": "ipython",
    "version": 3
   },
   "file_extension": ".py",
   "mimetype": "text/x-python",
   "name": "python",
   "nbconvert_exporter": "python",
   "pygments_lexer": "ipython3",
   "version": "3.8.19"
  }
 },
 "nbformat": 4,
 "nbformat_minor": 5
}
