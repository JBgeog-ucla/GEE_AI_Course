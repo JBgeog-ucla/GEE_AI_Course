{
 "cells": [
  {
   "cell_type": "code",
   "execution_count": 16,
   "id": "aceecd58-54e7-4e49-8b68-db92d9067018",
   "metadata": {},
   "outputs": [
    {
     "name": "stdout",
     "output_type": "stream",
     "text": [
      "Hello from the Earth Engine servers!\n"
     ]
    }
   ],
   "source": [
    "#Week 1 task uning this tutorial\n",
    "#https://developers.google.com/earth-engine/guides/python_install\n",
    "import ee\n",
    "import geemap\n",
    "#necessary to run ee libaries\n",
    "ee.Authenticate()\n",
    "ee.Initialize(project='ee-jbbadger-gis')\n",
    "print(ee.String('Hello from the Earth Engine servers!').getInfo())"
   ]
  },
  {
   "cell_type": "code",
   "execution_count": 17,
   "id": "6d4c036e-cd7e-4a83-9c4f-c1e682fcfda4",
   "metadata": {},
   "outputs": [
    {
     "data": {
      "text/html": [
       "\n",
       "            <style>\n",
       "                .geemap-dark {\n",
       "                    --jp-widgets-color: white;\n",
       "                    --jp-widgets-label-color: white;\n",
       "                    --jp-ui-font-color1: white;\n",
       "                    --jp-layout-color2: #454545;\n",
       "                    background-color: #383838;\n",
       "                }\n",
       "\n",
       "                .geemap-dark .jupyter-button {\n",
       "                    --jp-layout-color3: #383838;\n",
       "                }\n",
       "\n",
       "                .geemap-colab {\n",
       "                    background-color: var(--colab-primary-surface-color, white);\n",
       "                }\n",
       "\n",
       "                .geemap-colab .jupyter-button {\n",
       "                    --jp-layout-color3: var(--colab-primary-surface-color, white);\n",
       "                }\n",
       "            </style>\n",
       "            "
      ],
      "text/plain": [
       "<IPython.core.display.HTML object>"
      ]
     },
     "metadata": {},
     "output_type": "display_data"
    },
    {
     "data": {
      "text/plain": [
       "datetime.datetime(2020, 1, 1, 0, 0)"
      ]
     },
     "execution_count": 17,
     "metadata": {},
     "output_type": "execute_result"
    }
   ],
   "source": [
    "import datetime\n",
    "\n",
    "#Convert ee.Date to client-side date:\n",
    "ee_date = ee.Date('2020-01-01')\n",
    "ee_date\n",
    "\n",
    "py_date = datetime.datetime.utcfromtimestamp(ee_date.getInfo()['value']/1000.0)\n",
    "py_date"
   ]
  },
  {
   "cell_type": "code",
   "execution_count": 18,
   "id": "e3009d12-efc6-4e7b-8687-54b6aa748940",
   "metadata": {},
   "outputs": [
    {
     "data": {
      "text/html": [
       "\n",
       "            <style>\n",
       "                .geemap-dark {\n",
       "                    --jp-widgets-color: white;\n",
       "                    --jp-widgets-label-color: white;\n",
       "                    --jp-ui-font-color1: white;\n",
       "                    --jp-layout-color2: #454545;\n",
       "                    background-color: #383838;\n",
       "                }\n",
       "\n",
       "                .geemap-dark .jupyter-button {\n",
       "                    --jp-layout-color3: #383838;\n",
       "                }\n",
       "\n",
       "                .geemap-colab {\n",
       "                    background-color: var(--colab-primary-surface-color, white);\n",
       "                }\n",
       "\n",
       "                .geemap-colab .jupyter-button {\n",
       "                    --jp-layout-color3: var(--colab-primary-surface-color, white);\n",
       "                }\n",
       "            </style>\n",
       "            "
      ],
      "text/plain": [
       "<IPython.core.display.HTML object>"
      ]
     },
     "metadata": {},
     "output_type": "display_data"
    },
    {
     "data": {
      "text/html": [
       "<div><style>:root {\n",
       "  --font-color-primary: var(--jp-content-font-color0, rgba(0, 0, 0, 1));\n",
       "  --font-color-secondary: var(--jp-content-font-color2, rgba(0, 0, 0, 0.6));\n",
       "  --font-color-accent: rgba(123, 31, 162, 1);\n",
       "  --border-color: var(--jp-border-color2, #e0e0e0);\n",
       "  --background-color: var(--jp-layout-color0, white);\n",
       "  --background-color-row-even: var(--jp-layout-color1, white);\n",
       "  --background-color-row-odd: var(--jp-layout-color2, #eeeeee);\n",
       "}\n",
       "\n",
       "html[theme=\"dark\"],\n",
       "body[data-theme=\"dark\"],\n",
       "body.vscode-dark {\n",
       "  --font-color-primary: rgba(255, 255, 255, 1);\n",
       "  --font-color-secondary: rgba(255, 255, 255, 0.6);\n",
       "  --font-color-accent: rgb(173, 132, 190);\n",
       "  --border-color: #2e2e2e;\n",
       "  --background-color: #111111;\n",
       "  --background-color-row-even: #111111;\n",
       "  --background-color-row-odd: #313131;\n",
       "}\n",
       "\n",
       ".ee {\n",
       "  padding: 1em;\n",
       "  line-height: 1.5em;\n",
       "  min-width: 300px;\n",
       "  max-width: 1200px;\n",
       "  overflow-y: scroll;\n",
       "  max-height: 600px;\n",
       "  border: 1px solid var(--border-color);\n",
       "  font-family: monospace;\n",
       "}\n",
       "\n",
       ".ee li {\n",
       "  list-style-type: none;\n",
       "}\n",
       "\n",
       ".ee ul {\n",
       "  padding-left: 1.5em !important;\n",
       "  margin: 0;\n",
       "}\n",
       "\n",
       ".ee > ul {\n",
       "  padding-left: 0 !important;\n",
       "}\n",
       "\n",
       ".ee-open,\n",
       ".ee-shut {\n",
       "  color: var(--font-color-secondary);\n",
       "  cursor: pointer;\n",
       "  margin: 0;\n",
       "}\n",
       "\n",
       ".ee-open:hover,\n",
       ".ee-shut:hover {\n",
       "  color: var(--font-color-primary);\n",
       "}\n",
       "\n",
       ".ee-k {\n",
       "  color: var(--font-color-accent);\n",
       "  margin-right: 6px;\n",
       "}\n",
       "\n",
       ".ee-v {\n",
       "  color: var(--font-color-primary);\n",
       "}\n",
       "\n",
       ".ee-toggle {\n",
       "  display: none;\n",
       "}\n",
       "\n",
       ".ee-shut + ul {\n",
       "  display: none;\n",
       "}\n",
       "\n",
       ".ee-open + ul {\n",
       "  display: block;\n",
       "}\n",
       "\n",
       ".ee-shut::before {\n",
       "  display: inline-block;\n",
       "  content: \"▼\";\n",
       "  margin-right: 6px;\n",
       "  transform: rotate(-90deg);\n",
       "  transition: transform 0.2s;\n",
       "}\n",
       "\n",
       ".ee-open::before {\n",
       "  transform: rotate(0deg);\n",
       "  display: inline-block;\n",
       "  content: \"▼\";\n",
       "  margin-right: 6px;\n",
       "  transition: transform 0.2s;\n",
       "}\n",
       "</style><div class='ee'><ul><li><label class='ee-shut'>Date (2024-05-07 04:12:30.226000)<input type='checkbox' class='ee-toggle'></label><ul><li><span class='ee-k'>type:</span><span class='ee-v'>Date</span></li><li><span class='ee-k'>value:</span><span class='ee-v'>1715055150226</span></li></ul></li></ul></div><script>function toggleHeader() {\n",
       "    const parent = this.parentElement;\n",
       "    parent.className = parent.className === \"ee-open\" ? \"ee-shut\" : \"ee-open\";\n",
       "}\n",
       "\n",
       "for (let c of document.getElementsByClassName(\"ee-toggle\")) {\n",
       "    c.onclick = toggleHeader;\n",
       "}</script></div>"
      ],
      "text/plain": [
       "<ee.ee_date.Date at 0x7fbb60c86ac0>"
      ]
     },
     "execution_count": 18,
     "metadata": {},
     "output_type": "execute_result"
    }
   ],
   "source": [
    "#Convert client-side date to ee.Date:\n",
    "py_date = datetime.datetime.utcnow()\n",
    "py_date\n",
    "\n",
    "ee_date = ee.Date(py_date)\n",
    "ee_date"
   ]
  },
  {
   "cell_type": "code",
   "execution_count": 29,
   "id": "ee07081a-18c0-4904-a25c-41c2ef215420",
   "metadata": {},
   "outputs": [
    {
     "data": {
      "text/html": [
       "\n",
       "            <style>\n",
       "                .geemap-dark {\n",
       "                    --jp-widgets-color: white;\n",
       "                    --jp-widgets-label-color: white;\n",
       "                    --jp-ui-font-color1: white;\n",
       "                    --jp-layout-color2: #454545;\n",
       "                    background-color: #383838;\n",
       "                }\n",
       "\n",
       "                .geemap-dark .jupyter-button {\n",
       "                    --jp-layout-color3: #383838;\n",
       "                }\n",
       "\n",
       "                .geemap-colab {\n",
       "                    background-color: var(--colab-primary-surface-color, white);\n",
       "                }\n",
       "\n",
       "                .geemap-colab .jupyter-button {\n",
       "                    --jp-layout-color3: var(--colab-primary-surface-color, white);\n",
       "                }\n",
       "            </style>\n",
       "            "
      ],
      "text/plain": [
       "<IPython.core.display.HTML object>"
      ]
     },
     "metadata": {},
     "output_type": "display_data"
    },
    {
     "data": {
      "application/vnd.jupyter.widget-view+json": {
       "model_id": "f76c9e9099ff45ca98913d2f4e251499",
       "version_major": 2,
       "version_minor": 0
      },
      "text/plain": [
       "Map(center=[50, -85], controls=(WidgetControl(options=['position', 'transparent_bg'], widget=SearchDataGUI(chi…"
      ]
     },
     "execution_count": 29,
     "metadata": {},
     "output_type": "execute_result"
    }
   ],
   "source": [
    "# Define the image asset ID\n",
    "\n",
    "#Canada AAFC Annual Crop Inventory\n",
    "Canada_crops = ee.ImageCollection(\"AAFC/ACI\")\n",
    "\n",
    "crop2020 = Canada_crops \\\n",
    "    .filter(ee.Filter.date('2020-01-01', '2020-12-31')) \\\n",
    "    .first()\n",
    "\n",
    "# Create a map\n",
    "canada_map = geemap.Map(center=[50, -85], zoom=6)  # Centered over Ontario\n",
    "\n",
    "# Add the image to the map\n",
    "canada_map.addLayer(crop2020, {}, '2020 Canada AAFC Annual Crop Inventory')\n",
    "\n",
    "canada_map"
   ]
  },
  {
   "cell_type": "code",
   "execution_count": 35,
   "id": "d0997be8-af07-4dd1-a717-d1b473e27208",
   "metadata": {},
   "outputs": [
    {
     "data": {
      "text/html": [
       "\n",
       "            <style>\n",
       "                .geemap-dark {\n",
       "                    --jp-widgets-color: white;\n",
       "                    --jp-widgets-label-color: white;\n",
       "                    --jp-ui-font-color1: white;\n",
       "                    --jp-layout-color2: #454545;\n",
       "                    background-color: #383838;\n",
       "                }\n",
       "\n",
       "                .geemap-dark .jupyter-button {\n",
       "                    --jp-layout-color3: #383838;\n",
       "                }\n",
       "\n",
       "                .geemap-colab {\n",
       "                    background-color: var(--colab-primary-surface-color, white);\n",
       "                }\n",
       "\n",
       "                .geemap-colab .jupyter-button {\n",
       "                    --jp-layout-color3: var(--colab-primary-surface-color, white);\n",
       "                }\n",
       "            </style>\n",
       "            "
      ],
      "text/plain": [
       "<IPython.core.display.HTML object>"
      ]
     },
     "metadata": {},
     "output_type": "display_data"
    },
    {
     "data": {
      "text/html": [
       "<div><style>:root {\n",
       "  --font-color-primary: var(--jp-content-font-color0, rgba(0, 0, 0, 1));\n",
       "  --font-color-secondary: var(--jp-content-font-color2, rgba(0, 0, 0, 0.6));\n",
       "  --font-color-accent: rgba(123, 31, 162, 1);\n",
       "  --border-color: var(--jp-border-color2, #e0e0e0);\n",
       "  --background-color: var(--jp-layout-color0, white);\n",
       "  --background-color-row-even: var(--jp-layout-color1, white);\n",
       "  --background-color-row-odd: var(--jp-layout-color2, #eeeeee);\n",
       "}\n",
       "\n",
       "html[theme=\"dark\"],\n",
       "body[data-theme=\"dark\"],\n",
       "body.vscode-dark {\n",
       "  --font-color-primary: rgba(255, 255, 255, 1);\n",
       "  --font-color-secondary: rgba(255, 255, 255, 0.6);\n",
       "  --font-color-accent: rgb(173, 132, 190);\n",
       "  --border-color: #2e2e2e;\n",
       "  --background-color: #111111;\n",
       "  --background-color-row-even: #111111;\n",
       "  --background-color-row-odd: #313131;\n",
       "}\n",
       "\n",
       ".ee {\n",
       "  padding: 1em;\n",
       "  line-height: 1.5em;\n",
       "  min-width: 300px;\n",
       "  max-width: 1200px;\n",
       "  overflow-y: scroll;\n",
       "  max-height: 600px;\n",
       "  border: 1px solid var(--border-color);\n",
       "  font-family: monospace;\n",
       "}\n",
       "\n",
       ".ee li {\n",
       "  list-style-type: none;\n",
       "}\n",
       "\n",
       ".ee ul {\n",
       "  padding-left: 1.5em !important;\n",
       "  margin: 0;\n",
       "}\n",
       "\n",
       ".ee > ul {\n",
       "  padding-left: 0 !important;\n",
       "}\n",
       "\n",
       ".ee-open,\n",
       ".ee-shut {\n",
       "  color: var(--font-color-secondary);\n",
       "  cursor: pointer;\n",
       "  margin: 0;\n",
       "}\n",
       "\n",
       ".ee-open:hover,\n",
       ".ee-shut:hover {\n",
       "  color: var(--font-color-primary);\n",
       "}\n",
       "\n",
       ".ee-k {\n",
       "  color: var(--font-color-accent);\n",
       "  margin-right: 6px;\n",
       "}\n",
       "\n",
       ".ee-v {\n",
       "  color: var(--font-color-primary);\n",
       "}\n",
       "\n",
       ".ee-toggle {\n",
       "  display: none;\n",
       "}\n",
       "\n",
       ".ee-shut + ul {\n",
       "  display: none;\n",
       "}\n",
       "\n",
       ".ee-open + ul {\n",
       "  display: block;\n",
       "}\n",
       "\n",
       ".ee-shut::before {\n",
       "  display: inline-block;\n",
       "  content: \"▼\";\n",
       "  margin-right: 6px;\n",
       "  transform: rotate(-90deg);\n",
       "  transition: transform 0.2s;\n",
       "}\n",
       "\n",
       ".ee-open::before {\n",
       "  transform: rotate(0deg);\n",
       "  display: inline-block;\n",
       "  content: \"▼\";\n",
       "  margin-right: 6px;\n",
       "  transition: transform 0.2s;\n",
       "}\n",
       "</style><div class='ee'><ul><li><label class='ee-shut'>Image USGS/NLCD/NLCD2016 (1 band)<input type='checkbox' class='ee-toggle'></label><ul><li><span class='ee-k'>type:</span><span class='ee-v'>Image</span></li><li><span class='ee-k'>id:</span><span class='ee-v'>USGS/NLCD/NLCD2016</span></li><li><span class='ee-k'>version:</span><span class='ee-v'>1576603698764544</span></li><li><label class='ee-shut'>bands: List (1 element)<input type='checkbox' class='ee-toggle'></label><ul><li><label class='ee-shut'>0: \"landcover\", unsigned int8, PROJCS[\"Albers_Conical_Equal_Area\", \n",
       "  GEOGCS[\"WGS 84\", \n",
       "    DATUM[\"WGS_1984\", \n",
       "      SPHEROID[\"WGS 84\", 6378137.0, 298.257223563, AUTHORITY[\"EPSG\",\"7030\"]], \n",
       "      AUTHORITY[\"EPSG\",\"6326\"]], \n",
       "    PRIMEM[\"Greenwich\", 0.0], \n",
       "    UNIT[\"degree\", 0.017453292519943295], \n",
       "    AXIS[\"Longitude\", EAST], \n",
       "    AXIS[\"Latitude\", NORTH], \n",
       "    AUTHORITY[\"EPSG\",\"4326\"]], \n",
       "  PROJECTION[\"Albers_Conic_Equal_Area\"], \n",
       "  PARAMETER[\"central_meridian\", -96.0], \n",
       "  PARAMETER[\"latitude_of_origin\", 23.0], \n",
       "  PARAMETER[\"standard_parallel_1\", 29.5], \n",
       "  PARAMETER[\"false_easting\", 0.0], \n",
       "  PARAMETER[\"false_northing\", 0.0], \n",
       "  PARAMETER[\"standard_parallel_2\", 45.5], \n",
       "  UNIT[\"m\", 1.0], \n",
       "  AXIS[\"x\", EAST], \n",
       "  AXIS[\"y\", NORTH]], 161190x104424 px<input type='checkbox' class='ee-toggle'></label><ul><li><span class='ee-k'>id:</span><span class='ee-v'>landcover</span></li><li><span class='ee-k'>crs:</span><span class='ee-v'>PROJCS[\"Albers_Conical_Equal_Area\", \n",
       "  GEOGCS[\"WGS 84\", \n",
       "    DATUM[\"WGS_1984\", \n",
       "      SPHEROID[\"WGS 84\", 6378137.0, 298.257223563, AUTHORITY[\"EPSG\",\"7030\"]], \n",
       "      AUTHORITY[\"EPSG\",\"6326\"]], \n",
       "    PRIMEM[\"Greenwich\", 0.0], \n",
       "    UNIT[\"degree\", 0.017453292519943295], \n",
       "    AXIS[\"Longitude\", EAST], \n",
       "    AXIS[\"Latitude\", NORTH], \n",
       "    AUTHORITY[\"EPSG\",\"4326\"]], \n",
       "  PROJECTION[\"Albers_Conic_Equal_Area\"], \n",
       "  PARAMETER[\"central_meridian\", -96.0], \n",
       "  PARAMETER[\"latitude_of_origin\", 23.0], \n",
       "  PARAMETER[\"standard_parallel_1\", 29.5], \n",
       "  PARAMETER[\"false_easting\", 0.0], \n",
       "  PARAMETER[\"false_northing\", 0.0], \n",
       "  PARAMETER[\"standard_parallel_2\", 45.5], \n",
       "  UNIT[\"m\", 1.0], \n",
       "  AXIS[\"x\", EAST], \n",
       "  AXIS[\"y\", NORTH]]</span></li><li><label class='ee-shut'>crs_transform: [30, 0, -2493045, 0, -30, 3310005]<input type='checkbox' class='ee-toggle'></label><ul><li><span class='ee-k'>0:</span><span class='ee-v'>30</span></li><li><span class='ee-k'>1:</span><span class='ee-v'>0</span></li><li><span class='ee-k'>2:</span><span class='ee-v'>-2493045</span></li><li><span class='ee-k'>3:</span><span class='ee-v'>0</span></li><li><span class='ee-k'>4:</span><span class='ee-v'>-30</span></li><li><span class='ee-k'>5:</span><span class='ee-v'>3310005</span></li></ul></li><li><label class='ee-shut'>data_type: unsigned int8<input type='checkbox' class='ee-toggle'></label><ul><li><span class='ee-k'>type:</span><span class='ee-v'>PixelType</span></li><li><span class='ee-k'>max:</span><span class='ee-v'>255</span></li><li><span class='ee-k'>min:</span><span class='ee-v'>0</span></li><li><span class='ee-k'>precision:</span><span class='ee-v'>int</span></li></ul></li><li><label class='ee-shut'>dimensions: [161190, 104424]<input type='checkbox' class='ee-toggle'></label><ul><li><span class='ee-k'>0:</span><span class='ee-v'>161190</span></li><li><span class='ee-k'>1:</span><span class='ee-v'>104424</span></li></ul></li></ul></li></ul></li><li><label class='ee-shut'>properties: Object (11 properties)<input type='checkbox' class='ee-toggle'></label><ul><li><label class='ee-shut'>impervious_descriptor_class_names: List (12 elements)<input type='checkbox' class='ee-toggle'></label><ul><li><span class='ee-k'>0:</span><span class='ee-v'>Primary road in urban area : interstates and other major roads</span></li><li><span class='ee-k'>1:</span><span class='ee-v'>Primary road outside urban area : interstates and other major roads</span></li><li><span class='ee-k'>2:</span><span class='ee-v'>Secondary road in urban area : non-interstate highways</span></li><li><span class='ee-k'>3:</span><span class='ee-v'>Secondary road outside urban area : non-interstate highways</span></li><li><span class='ee-k'>4:</span><span class='ee-v'>Tertiary road in urban area : any two-lane road</span></li><li><span class='ee-k'>5:</span><span class='ee-v'>Tertiary road outside urban area : any two-lane road</span></li><li><span class='ee-k'>6:</span><span class='ee-v'>Thinned road in urban area : small tertiary roads that generally are not paved and have been removed from the landcover but remain as part of the impervious surface product.  These roads have been separated in the western United States so that a better categorization of developed features is represented in the landcover</span></li><li><span class='ee-k'>7:</span><span class='ee-v'>Thinned road outside urban area : small tertiary roads that generally are not paved and have been removed from the landcover but remain as part of the impervious surface product.  These roads have been separated in the western United States so that a better categorization of developed features is represented in the landcover</span></li><li><span class='ee-k'>8:</span><span class='ee-v'>Nonroad impervious surface in urban area</span></li><li><span class='ee-k'>9:</span><span class='ee-v'>Nonroad impervious surface outside urban area</span></li><li><span class='ee-k'>10:</span><span class='ee-v'>Energy production site in urban area : areas identified from the FrackTracker points and classified in coordination with the Landfire project</span></li><li><span class='ee-k'>11:</span><span class='ee-v'>Energy production site outside urban area : areas identified from the FrackTracker points and classified in coordination with the Landfire project</span></li></ul></li><li><label class='ee-shut'>impervious_descriptor_class_palette: List (12 elements)<input type='checkbox' class='ee-toggle'></label><ul><li><span class='ee-k'>0:</span><span class='ee-v'>ff0000</span></li><li><span class='ee-k'>1:</span><span class='ee-v'>a20000</span></li><li><span class='ee-k'>2:</span><span class='ee-v'>ffff00</span></li><li><span class='ee-k'>3:</span><span class='ee-v'>ffd400</span></li><li><span class='ee-k'>4:</span><span class='ee-v'>0000ff</span></li><li><span class='ee-k'>5:</span><span class='ee-v'>009edf</span></li><li><span class='ee-k'>6:</span><span class='ee-v'>ffffff</span></li><li><span class='ee-k'>7:</span><span class='ee-v'>ffffff</span></li><li><span class='ee-k'>8:</span><span class='ee-v'>ffc0c8</span></li><li><span class='ee-k'>9:</span><span class='ee-v'>eb82eb</span></li><li><span class='ee-k'>10:</span><span class='ee-v'>006100</span></li><li><span class='ee-k'>11:</span><span class='ee-v'>00ff00</span></li></ul></li><li><label class='ee-shut'>impervious_descriptor_class_values: [1, 2, 3, 4, 5, 6, 7, 8, 9, 10, 11, 12]<input type='checkbox' class='ee-toggle'></label><ul><li><span class='ee-k'>0:</span><span class='ee-v'>1</span></li><li><span class='ee-k'>1:</span><span class='ee-v'>2</span></li><li><span class='ee-k'>2:</span><span class='ee-v'>3</span></li><li><span class='ee-k'>3:</span><span class='ee-v'>4</span></li><li><span class='ee-k'>4:</span><span class='ee-v'>5</span></li><li><span class='ee-k'>5:</span><span class='ee-v'>6</span></li><li><span class='ee-k'>6:</span><span class='ee-v'>7</span></li><li><span class='ee-k'>7:</span><span class='ee-v'>8</span></li><li><span class='ee-k'>8:</span><span class='ee-v'>9</span></li><li><span class='ee-k'>9:</span><span class='ee-v'>10</span></li><li><span class='ee-k'>10:</span><span class='ee-v'>11</span></li><li><span class='ee-k'>11:</span><span class='ee-v'>12</span></li></ul></li><li><label class='ee-shut'>landcover_class_names: List (20 elements)<input type='checkbox' class='ee-toggle'></label><ul><li><span class='ee-k'>0:</span><span class='ee-v'>Open Water - All areas of open water, generally with less than 25% cover or vegetation or soil.</span></li><li><span class='ee-k'>1:</span><span class='ee-v'>Perennial Ice/Snow - All areas characterized by a perennial cover of ice and/or snow, generally greater than 25% of total cover.</span></li><li><span class='ee-k'>2:</span><span class='ee-v'>Developed, Open Space - Includes areas with a mixture of some constructed materials, but mostly vegetation in the form of lawn grasses.  Impervious surfaces account for less than 20 percent of total cover. These areas most commonly include large-lot single-family housing units, parks, golf courses, and vegetation planted in developed settings for recreation, erosion control, or aesthetic purposes.</span></li><li><span class='ee-k'>3:</span><span class='ee-v'>Developed, Low Intensity - Includes areas with a mixture of constructed materials and vegetation. Impervious surfaces account for 20-49 percent of total cover.  These areas most commonly include single-family housing units.</span></li><li><span class='ee-k'>4:</span><span class='ee-v'>Developed, Medium Intensity - Includes areas with a mixture of constructed materials and vegetation. Impervious surfaces account for 50-79 percent of the total cover.  These areas most commonly include single-family housing units.</span></li><li><span class='ee-k'>5:</span><span class='ee-v'>Developed, High Intensity - Includes highly developed areas where people reside or work in high numbers. Examples include apartment complexes, row houses and commercial/industrial.  Impervious surfaces account for 80 to 100 percent of the total cover.</span></li><li><span class='ee-k'>6:</span><span class='ee-v'>Barren Land (Rock/Sand/Clay) - Barren areas of bedrock, desert pavement, scarps, talus, slides, volcanic material, glacial debris, sand dunes, strip mines, gravel pits and other accumulations of earthen material. Generally, vegetation accounts for less than 15% of total cover.</span></li><li><span class='ee-k'>7:</span><span class='ee-v'>Deciduous Forest  - Areas dominated by trees generally greater than 5 meters tall, and greater than 20% of total vegetation cover. More than 75 percent of the tree species shed foliage simultaneously in response to seasonal change.</span></li><li><span class='ee-k'>8:</span><span class='ee-v'>Evergreen Forest - Areas dominated by trees generally greater than 5 meters tall, and greater than 20% of total vegetation cover. More than 75 percent of the tree species maintain their leaves all year. Canopy is never without green foliage.</span></li><li><span class='ee-k'>9:</span><span class='ee-v'>Mixed Forest - Areas dominated by trees generally greater than 5 meters tall, and greater than 20% of total vegetation cover. Neither deciduous nor evergreen species are greater than 75 percent of total tree cover.</span></li><li><span class='ee-k'>10:</span><span class='ee-v'>Dwarf Scrub - Alaska only areas dominated by shrubs less than 20 centimeters tall with shrub canopy typically greater than 20% of total vegetation. This type is often co-associated with grasses, sedges, herbs, and non-vascular vegetation tundra and may be periodically or seasonally wet and/or saturated with water. This type commonly occurs in alpine or tundra areas and may contain permafrost.</span></li><li><span class='ee-k'>11:</span><span class='ee-v'>Shrub/Scrub - Areas dominated by shrubs less than 5 meters tall with shrub canopy typically greater than 20% of total vegetation. This class includes true shrubs, young trees in an early successional stage or trees stunted from environmental conditions.</span></li><li><span class='ee-k'>12:</span><span class='ee-v'>Grassland/Herbaceous - Areas dominated by grammanoid or herbaceous vegetation, generally greater than 80% of total vegetation.  These areas are not subject to intensive management such as tilling, but can be utilized for grazing.</span></li><li><span class='ee-k'>13:</span><span class='ee-v'>Sedge/Herbaceous - Alaska only areas dominated by sedges and forbs, generally greater than 80% of total vegetation. This type can occur with significant other grasses or other grass like plants, and includes sedge tundra, and sedge tussock tundra and may be periodically or seasonally wet and/or saturated.  This type may contain permafrost.</span></li><li><span class='ee-k'>14:</span><span class='ee-v'>Lichens - Alaska only areas dominated by fruticose or foliose lichens generally greater than 80% of total vegetation.</span></li><li><span class='ee-k'>15:</span><span class='ee-v'>Moss - Alaska only areas dominated by mosses generally greater than 80% of total vegetation.</span></li><li><span class='ee-k'>16:</span><span class='ee-v'>Pasture/Hay - Areas of grasses, legumes, or grass-legume mixtures planted for livestock grazing or the production of seed or hay crops, typically on a perennial cycle. Pasture/hay vegetation accounts for greater than 20 percent of total vegetation.</span></li><li><span class='ee-k'>17:</span><span class='ee-v'>Cultivated Crops - Areas used for the production of annual crops, such as corn, soybeans, vegetables, tobacco, and cotton, and also perennial woody crops such as orchards and vineyards. Crop vegetation accounts for greater than 20 percent of total vegetation. This class also includes all land being actively tilled.</span></li><li><span class='ee-k'>18:</span><span class='ee-v'>Woody Wetlands - Areas where forest or shrub land vegetation accounts for greater than 20 percent of vegetative cover and the soil or substrate is persistently saturated with or covered with water.</span></li><li><span class='ee-k'>19:</span><span class='ee-v'>Emergent Herbaceous Wetlands - Areas where perennial herbaceous vegetation accounts for greater than 80 percent of vegetative cover and the soil or substrate is persistently saturated with or covered with water.</span></li></ul></li><li><label class='ee-shut'>landcover_class_palette: List (20 elements)<input type='checkbox' class='ee-toggle'></label><ul><li><span class='ee-k'>0:</span><span class='ee-v'>476ba1</span></li><li><span class='ee-k'>1:</span><span class='ee-v'>d1defa</span></li><li><span class='ee-k'>2:</span><span class='ee-v'>decaca</span></li><li><span class='ee-k'>3:</span><span class='ee-v'>d99482</span></li><li><span class='ee-k'>4:</span><span class='ee-v'>ee0000</span></li><li><span class='ee-k'>5:</span><span class='ee-v'>ab0000</span></li><li><span class='ee-k'>6:</span><span class='ee-v'>b3aea3</span></li><li><span class='ee-k'>7:</span><span class='ee-v'>68ab63</span></li><li><span class='ee-k'>8:</span><span class='ee-v'>1c6330</span></li><li><span class='ee-k'>9:</span><span class='ee-v'>b5ca8f</span></li><li><span class='ee-k'>10:</span><span class='ee-v'>a68c30</span></li><li><span class='ee-k'>11:</span><span class='ee-v'>ccba7d</span></li><li><span class='ee-k'>12:</span><span class='ee-v'>e3e3c2</span></li><li><span class='ee-k'>13:</span><span class='ee-v'>caca78</span></li><li><span class='ee-k'>14:</span><span class='ee-v'>99c247</span></li><li><span class='ee-k'>15:</span><span class='ee-v'>78ae94</span></li><li><span class='ee-k'>16:</span><span class='ee-v'>dcd93d</span></li><li><span class='ee-k'>17:</span><span class='ee-v'>ab7028</span></li><li><span class='ee-k'>18:</span><span class='ee-v'>bad9eb</span></li><li><span class='ee-k'>19:</span><span class='ee-v'>70a3ba</span></li></ul></li><li><label class='ee-shut'>landcover_class_values: List (20 elements)<input type='checkbox' class='ee-toggle'></label><ul><li><span class='ee-k'>0:</span><span class='ee-v'>11</span></li><li><span class='ee-k'>1:</span><span class='ee-v'>12</span></li><li><span class='ee-k'>2:</span><span class='ee-v'>21</span></li><li><span class='ee-k'>3:</span><span class='ee-v'>22</span></li><li><span class='ee-k'>4:</span><span class='ee-v'>23</span></li><li><span class='ee-k'>5:</span><span class='ee-v'>24</span></li><li><span class='ee-k'>6:</span><span class='ee-v'>31</span></li><li><span class='ee-k'>7:</span><span class='ee-v'>41</span></li><li><span class='ee-k'>8:</span><span class='ee-v'>42</span></li><li><span class='ee-k'>9:</span><span class='ee-v'>43</span></li><li><span class='ee-k'>10:</span><span class='ee-v'>51</span></li><li><span class='ee-k'>11:</span><span class='ee-v'>52</span></li><li><span class='ee-k'>12:</span><span class='ee-v'>71</span></li><li><span class='ee-k'>13:</span><span class='ee-v'>72</span></li><li><span class='ee-k'>14:</span><span class='ee-v'>73</span></li><li><span class='ee-k'>15:</span><span class='ee-v'>74</span></li><li><span class='ee-k'>16:</span><span class='ee-v'>81</span></li><li><span class='ee-k'>17:</span><span class='ee-v'>82</span></li><li><span class='ee-k'>18:</span><span class='ee-v'>90</span></li><li><span class='ee-k'>19:</span><span class='ee-v'>95</span></li></ul></li><li><span class='ee-k'>system:asset_size:</span><span class='ee-v'>20252006345</span></li><li><label class='ee-shut'>system:footprint: LinearRing (19 vertices)<input type='checkbox' class='ee-toggle'></label><ul><li><span class='ee-k'>type:</span><span class='ee-v'>LinearRing</span></li><li><label class='ee-shut'>coordinates: List (19 elements)<input type='checkbox' class='ee-toggle'></label><ul><li><label class='ee-shut'>0: [-105.90095863308562, 24.139678035474713]<input type='checkbox' class='ee-toggle'></label><ul><li><span class='ee-k'>0:</span><span class='ee-v'>-105.90095863308562</span></li><li><span class='ee-k'>1:</span><span class='ee-v'>24.139678035474713</span></li></ul></li><li><label class='ee-shut'>1: [-100.0438470413017, 24.545648496919725]<input type='checkbox' class='ee-toggle'></label><ul><li><span class='ee-k'>0:</span><span class='ee-v'>-100.0438470413017</span></li><li><span class='ee-k'>1:</span><span class='ee-v'>24.545648496919725</span></li></ul></li><li><label class='ee-shut'>2: [-88.2820063266809, 24.331303349622537]<input type='checkbox' class='ee-toggle'></label><ul><li><span class='ee-k'>0:</span><span class='ee-v'>-88.2820063266809</span></li><li><span class='ee-k'>1:</span><span class='ee-v'>24.331303349622537</span></li></ul></li><li><label class='ee-shut'>3: [-82.46657845276867, 23.712666414026955]<input type='checkbox' class='ee-toggle'></label><ul><li><span class='ee-k'>0:</span><span class='ee-v'>-82.46657845276867</span></li><li><span class='ee-k'>1:</span><span class='ee-v'>23.712666414026955</span></li></ul></li><li><label class='ee-shut'>4: [-73.59448403264648, 22.076568413784006]<input type='checkbox' class='ee-toggle'></label><ul><li><span class='ee-k'>0:</span><span class='ee-v'>-73.59448403264648</span></li><li><span class='ee-k'>1:</span><span class='ee-v'>22.076568413784006</span></li></ul></li><li><label class='ee-shut'>5: [-70.93371173552747, 31.565622524806255]<input type='checkbox' class='ee-toggle'></label><ul><li><span class='ee-k'>0:</span><span class='ee-v'>-70.93371173552747</span></li><li><span class='ee-k'>1:</span><span class='ee-v'>31.565622524806255</span></li></ul></li><li><label class='ee-shut'>6: [-66.51394653274536, 43.28510939588516]<input type='checkbox' class='ee-toggle'></label><ul><li><span class='ee-k'>0:</span><span class='ee-v'>-66.51394653274536</span></li><li><span class='ee-k'>1:</span><span class='ee-v'>43.28510939588516</span></li></ul></li><li><label class='ee-shut'>7: [-63.63641644172879, 49.168185582273544]<input type='checkbox' class='ee-toggle'></label><ul><li><span class='ee-k'>0:</span><span class='ee-v'>-63.63641644172879</span></li><li><span class='ee-k'>1:</span><span class='ee-v'>49.168185582273544</span></li></ul></li><li><label class='ee-shut'>8: [-76.21612025463648, 51.525377730401935]<input type='checkbox' class='ee-toggle'></label><ul><li><span class='ee-k'>0:</span><span class='ee-v'>-76.21612025463648</span></li><li><span class='ee-k'>1:</span><span class='ee-v'>51.525377730401935</span></li></ul></li><li><label class='ee-shut'>9: [-84.65814556190182, 52.43721810664046]<input type='checkbox' class='ee-toggle'></label><ul><li><span class='ee-k'>0:</span><span class='ee-v'>-84.65814556190182</span></li><li><span class='ee-k'>1:</span><span class='ee-v'>52.43721810664046</span></li></ul></li><li><label class='ee-shut'>10: [-101.95361140752647, 52.756503694834855]<input type='checkbox' class='ee-toggle'></label><ul><li><span class='ee-k'>0:</span><span class='ee-v'>-101.95361140752647</span></li><li><span class='ee-k'>1:</span><span class='ee-v'>52.756503694834855</span></li></ul></li><li><label class='ee-shut'>11: [-110.52593139470122, 52.15325969742198]<input type='checkbox' class='ee-toggle'></label><ul><li><span class='ee-k'>0:</span><span class='ee-v'>-110.52593139470122</span></li><li><span class='ee-k'>1:</span><span class='ee-v'>52.15325969742198</span></li></ul></li><li><label class='ee-shut'>12: [-118.86704310316404, 51.062400754331556]<input type='checkbox' class='ee-toggle'></label><ul><li><span class='ee-k'>0:</span><span class='ee-v'>-118.86704310316404</span></li><li><span class='ee-k'>1:</span><span class='ee-v'>51.062400754331556</span></li></ul></li><li><label class='ee-shut'>13: [-130.24354289091747, 48.70471924476132]<input type='checkbox' class='ee-toggle'></label><ul><li><span class='ee-k'>0:</span><span class='ee-v'>-130.24354289091747</span></li><li><span class='ee-k'>1:</span><span class='ee-v'>48.70471924476132</span></li></ul></li><li><label class='ee-shut'>14: [-127.88519983847146, 44.17496136258756]<input type='checkbox' class='ee-toggle'></label><ul><li><span class='ee-k'>0:</span><span class='ee-v'>-127.88519983847146</span></li><li><span class='ee-k'>1:</span><span class='ee-v'>44.17496136258756</span></li></ul></li><li><label class='ee-shut'>15: [-122.88273959919394, 32.047491995457435]<input type='checkbox' class='ee-toggle'></label><ul><li><span class='ee-k'>0:</span><span class='ee-v'>-122.88273959919394</span></li><li><span class='ee-k'>1:</span><span class='ee-v'>32.047491995457435</span></li></ul></li><li><label class='ee-shut'>16: [-119.78621526695484, 21.742143957752265]<input type='checkbox' class='ee-toggle'></label><ul><li><span class='ee-k'>0:</span><span class='ee-v'>-119.78621526695484</span></li><li><span class='ee-k'>1:</span><span class='ee-v'>21.742143957752265</span></li></ul></li><li><label class='ee-shut'>17: [-111.68363084232533, 23.39493221857397]<input type='checkbox' class='ee-toggle'></label><ul><li><span class='ee-k'>0:</span><span class='ee-v'>-111.68363084232533</span></li><li><span class='ee-k'>1:</span><span class='ee-v'>23.39493221857397</span></li></ul></li><li><label class='ee-shut'>18: [-105.90095863308562, 24.139678035474713]<input type='checkbox' class='ee-toggle'></label><ul><li><span class='ee-k'>0:</span><span class='ee-v'>-105.90095863308562</span></li><li><span class='ee-k'>1:</span><span class='ee-v'>24.139678035474713</span></li></ul></li></ul></li></ul></li><li><span class='ee-k'>system:index:</span><span class='ee-v'>NLCD2016</span></li><li><span class='ee-k'>system:time_end:</span><span class='ee-v'>1483228800000</span></li><li><span class='ee-k'>system:time_start:</span><span class='ee-v'>1451606400000</span></li></ul></li></ul></li></ul></div><script>function toggleHeader() {\n",
       "    const parent = this.parentElement;\n",
       "    parent.className = parent.className === \"ee-open\" ? \"ee-shut\" : \"ee-open\";\n",
       "}\n",
       "\n",
       "for (let c of document.getElementsByClassName(\"ee-toggle\")) {\n",
       "    c.onclick = toggleHeader;\n",
       "}</script></div>"
      ],
      "text/plain": [
       "<ee.image.Image at 0x7fbb784ee340>"
      ]
     },
     "execution_count": 35,
     "metadata": {},
     "output_type": "execute_result"
    }
   ],
   "source": [
    "# Define the NLCD image collection ID\n",
    "nlcd_crops = 'USGS/NLCD/NLCD2016'\n",
    "\n",
    "# Load the NLCD dataset\n",
    "nlcd = ee.Image(nlcd_crops)\n",
    "nlcd #Image USGS/NLCD/NLCD2016 (13 bands)\n",
    "\n",
    "# Select the crop cover band - this doesn't work\n",
    "#cultivated is not an available band \n",
    "#changing to 'landcover' to remedy error\n",
    "#then moving to USDA Cropland Data Layer (CDL) \n",
    "crop_cover_band = nlcd.select('landcover')\n",
    "crop_cover_band\n"
   ]
  },
  {
   "cell_type": "code",
   "execution_count": 37,
   "id": "5b3f8f99-447f-4fd2-8560-ff8e88eccec0",
   "metadata": {},
   "outputs": [
    {
     "data": {
      "text/html": [
       "\n",
       "            <style>\n",
       "                .geemap-dark {\n",
       "                    --jp-widgets-color: white;\n",
       "                    --jp-widgets-label-color: white;\n",
       "                    --jp-ui-font-color1: white;\n",
       "                    --jp-layout-color2: #454545;\n",
       "                    background-color: #383838;\n",
       "                }\n",
       "\n",
       "                .geemap-dark .jupyter-button {\n",
       "                    --jp-layout-color3: #383838;\n",
       "                }\n",
       "\n",
       "                .geemap-colab {\n",
       "                    background-color: var(--colab-primary-surface-color, white);\n",
       "                }\n",
       "\n",
       "                .geemap-colab .jupyter-button {\n",
       "                    --jp-layout-color3: var(--colab-primary-surface-color, white);\n",
       "                }\n",
       "            </style>\n",
       "            "
      ],
      "text/plain": [
       "<IPython.core.display.HTML object>"
      ]
     },
     "metadata": {},
     "output_type": "display_data"
    },
    {
     "data": {
      "application/vnd.jupyter.widget-view+json": {
       "model_id": "47a0c49d95ae48e1a59a497da0c7bc7b",
       "version_major": 2,
       "version_minor": 0
      },
      "text/plain": [
       "Map(center=[36, -119], controls=(WidgetControl(options=['position', 'transparent_bg'], widget=SearchDataGUI(ch…"
      ]
     },
     "execution_count": 37,
     "metadata": {},
     "output_type": "execute_result"
    }
   ],
   "source": [
    "# Load the TIGER shapefile of California\n",
    "CA_shapefile = ee.FeatureCollection(\"TIGER/2018/States\") \\\n",
    "    .filter(ee.Filter.eq('NAME', 'California'))\n",
    "\n",
    "#using the geometry column in the CA shapefile\n",
    "crop_cover_CA = crop_cover_band.clip(CA_shapefile.geometry())\n",
    "\n",
    "# Create a map\n",
    "m = geemap.Map(center=[36, -119], zoom=6)\n",
    "\n",
    "# Add the clipped crop cover data for California to the map\n",
    "m.addLayer(crop_cover_CA, {}, 'Crop Cover California')\n",
    "m"
   ]
  },
  {
   "cell_type": "code",
   "execution_count": null,
   "id": "65e8fcc5-51ea-4577-b0a3-3e862c9f2e35",
   "metadata": {},
   "outputs": [],
   "source": [
    "task = ee.batch.Export.image.toDrive(image=my_image,  # an ee.Image object.\n",
    "                                     region=my_geometry,  # an ee.Geometry object.\n",
    "                                     description='mock_export',\n",
    "                                     folder='gdrive_folder',\n",
    "                                     fileNamePrefix='mock_export',\n",
    "                                     scale=1000,\n",
    "                                     crs='EPSG:4326')"
   ]
  },
  {
   "cell_type": "code",
   "execution_count": null,
   "id": "f9cc0c88-01f2-4015-8be3-f12a46d93cb0",
   "metadata": {},
   "outputs": [],
   "source": []
  }
 ],
 "metadata": {
  "kernelspec": {
   "display_name": "Python 3 (ipykernel)",
   "language": "python",
   "name": "python3"
  },
  "language_info": {
   "codemirror_mode": {
    "name": "ipython",
    "version": 3
   },
   "file_extension": ".py",
   "mimetype": "text/x-python",
   "name": "python",
   "nbconvert_exporter": "python",
   "pygments_lexer": "ipython3",
   "version": "3.8.19"
  }
 },
 "nbformat": 4,
 "nbformat_minor": 5
}
